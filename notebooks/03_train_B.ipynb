{
 "cells": [
  {
   "cell_type": "markdown",
   "id": "e5f9f633",
   "metadata": {},
   "source": [
    "# 03 – Train Models (Osoba B)"
   ]
  },
  {
   "cell_type": "code",
   "execution_count": null,
   "id": "33b933ce",
   "metadata": {},
   "outputs": [],
   "source": [
    "!python src/train_models.py --features features/features.csv --config configs/training_config.yaml --out_dir models --reports_dir reports\n"
   ]
  }
 ],
 "metadata": {},
 "nbformat": 4,
 "nbformat_minor": 5
}
