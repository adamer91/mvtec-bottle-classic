{
 "cells": [
  {
   "cell_type": "markdown",
   "id": "a6d6dfd0",
   "metadata": {},
   "source": [
    "# 02 – Feature Extraction (Osoba A)"
   ]
  },
  {
   "cell_type": "code",
   "execution_count": null,
   "id": "9fc9c933",
   "metadata": {},
   "outputs": [],
   "source": [
    "!python src/extract_features.py --preproc_dir preproc --manifest data/manifest.csv --out_csv features/features.csv --roi_dir roi_masks\n"
   ]
  }
 ],
 "metadata": {},
 "nbformat": 4,
 "nbformat_minor": 5
}
