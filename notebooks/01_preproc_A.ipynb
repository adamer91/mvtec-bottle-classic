{
 "cells": [
  {
   "cell_type": "markdown",
   "id": "d0ca96c8",
   "metadata": {},
   "source": [
    "# 01 – Preprocessing (Osoba A)"
   ]
  },
  {
   "cell_type": "code",
   "execution_count": null,
   "id": "7e2a9861",
   "metadata": {},
   "outputs": [],
   "source": [
    "!pip install -r requirements.txt\n"
   ]
  },
  {
   "cell_type": "code",
   "execution_count": null,
   "id": "4af162c0",
   "metadata": {},
   "outputs": [],
   "source": [
    "# Configure paths\n",
    "mvtec_root = \"/path/to/mvtec_ad\"\n",
    "category = \"bottle\"\n"
   ]
  },
  {
   "cell_type": "code",
   "execution_count": null,
   "id": "c7886adb",
   "metadata": {},
   "outputs": [],
   "source": [
    "# Run preprocessing from script (recommended)\n",
    "!python src/preprocess.py --mvtec_root \"$mvtec_root\" --category \"$category\" --out_preproc preproc --out_manifest data/manifest.csv --config configs/preprocessing_config.yaml\n"
   ]
  }
 ],
 "metadata": {},
 "nbformat": 4,
 "nbformat_minor": 5
}
