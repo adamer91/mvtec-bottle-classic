{
 "cells": [
  {
   "cell_type": "markdown",
   "id": "370ec91a",
   "metadata": {},
   "source": [
    "# 04 – Evaluate & Plot (Osoba B)"
   ]
  },
  {
   "cell_type": "code",
   "execution_count": null,
   "id": "deec3055",
   "metadata": {},
   "outputs": [],
   "source": [
    "!python src/eval_metrics.py --reports_dir reports\n"
   ]
  },
  {
   "cell_type": "code",
   "execution_count": null,
   "id": "a7ae3a53",
   "metadata": {},
   "outputs": [],
   "source": [
    "import pandas as pd\n",
    "pd.read_csv(\"reports/metrics.csv\")\n"
   ]
  }
 ],
 "metadata": {},
 "nbformat": 4,
 "nbformat_minor": 5
}
